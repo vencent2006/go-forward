{
 "cells": [
  {
   "cell_type": "code",
   "execution_count": 1,
   "metadata": {
    "collapsed": true,
    "ExecuteTime": {
     "end_time": "2025-03-14T09:58:53.907458Z",
     "start_time": "2025-03-14T09:58:53.896764Z"
    }
   },
   "outputs": [
    {
     "name": "stdout",
     "output_type": "stream",
     "text": [
      "hello world\n"
     ]
    }
   ],
   "source": [
    "print('hello world')"
   ]
  },
  {
   "cell_type": "code",
   "execution_count": null,
   "outputs": [],
   "source": [
    "# 更新langchain"
   ],
   "metadata": {
    "collapsed": false
   }
  },
  {
   "cell_type": "code",
   "execution_count": 2,
   "outputs": [
    {
     "name": "stdout",
     "output_type": "stream",
     "text": [
      "Requirement already satisfied: langchain in /opt/miniconda3/lib/python3.12/site-packages (0.3.20)\r\n",
      "Requirement already satisfied: langchain-core<1.0.0,>=0.3.41 in /opt/miniconda3/lib/python3.12/site-packages (from langchain) (0.3.41)\r\n",
      "Requirement already satisfied: langchain-text-splitters<1.0.0,>=0.3.6 in /opt/miniconda3/lib/python3.12/site-packages (from langchain) (0.3.6)\r\n",
      "Requirement already satisfied: langsmith<0.4,>=0.1.17 in /opt/miniconda3/lib/python3.12/site-packages (from langchain) (0.3.11)\r\n",
      "Requirement already satisfied: pydantic<3.0.0,>=2.7.4 in /opt/miniconda3/lib/python3.12/site-packages (from langchain) (2.10.3)\r\n",
      "Requirement already satisfied: SQLAlchemy<3,>=1.4 in /opt/miniconda3/lib/python3.12/site-packages (from langchain) (2.0.38)\r\n",
      "Requirement already satisfied: requests<3,>=2 in /opt/miniconda3/lib/python3.12/site-packages (from langchain) (2.32.3)\r\n",
      "Requirement already satisfied: PyYAML>=5.3 in /opt/miniconda3/lib/python3.12/site-packages (from langchain) (6.0.2)\r\n",
      "Requirement already satisfied: tenacity!=8.4.0,<10.0.0,>=8.1.0 in /opt/miniconda3/lib/python3.12/site-packages (from langchain-core<1.0.0,>=0.3.41->langchain) (9.0.0)\r\n",
      "Requirement already satisfied: jsonpatch<2.0,>=1.33 in /opt/miniconda3/lib/python3.12/site-packages (from langchain-core<1.0.0,>=0.3.41->langchain) (1.33)\r\n",
      "Requirement already satisfied: packaging<25,>=23.2 in /opt/miniconda3/lib/python3.12/site-packages (from langchain-core<1.0.0,>=0.3.41->langchain) (24.2)\r\n",
      "Requirement already satisfied: typing-extensions>=4.7 in /opt/miniconda3/lib/python3.12/site-packages (from langchain-core<1.0.0,>=0.3.41->langchain) (4.12.2)\r\n",
      "Requirement already satisfied: httpx<1,>=0.23.0 in /opt/miniconda3/lib/python3.12/site-packages (from langsmith<0.4,>=0.1.17->langchain) (0.27.0)\r\n",
      "Requirement already satisfied: orjson<4.0.0,>=3.9.14 in /opt/miniconda3/lib/python3.12/site-packages (from langsmith<0.4,>=0.1.17->langchain) (3.10.15)\r\n",
      "Requirement already satisfied: requests-toolbelt<2.0.0,>=1.0.0 in /opt/miniconda3/lib/python3.12/site-packages (from langsmith<0.4,>=0.1.17->langchain) (1.0.0)\r\n",
      "Requirement already satisfied: zstandard<0.24.0,>=0.23.0 in /opt/miniconda3/lib/python3.12/site-packages (from langsmith<0.4,>=0.1.17->langchain) (0.23.0)\r\n",
      "Requirement already satisfied: annotated-types>=0.6.0 in /opt/miniconda3/lib/python3.12/site-packages (from pydantic<3.0.0,>=2.7.4->langchain) (0.6.0)\r\n",
      "Requirement already satisfied: pydantic-core==2.27.1 in /opt/miniconda3/lib/python3.12/site-packages (from pydantic<3.0.0,>=2.7.4->langchain) (2.27.1)\r\n",
      "Requirement already satisfied: charset-normalizer<4,>=2 in /opt/miniconda3/lib/python3.12/site-packages (from requests<3,>=2->langchain) (3.3.2)\r\n",
      "Requirement already satisfied: idna<4,>=2.5 in /opt/miniconda3/lib/python3.12/site-packages (from requests<3,>=2->langchain) (3.7)\r\n",
      "Requirement already satisfied: urllib3<3,>=1.21.1 in /opt/miniconda3/lib/python3.12/site-packages (from requests<3,>=2->langchain) (2.3.0)\r\n",
      "Requirement already satisfied: certifi>=2017.4.17 in /opt/miniconda3/lib/python3.12/site-packages (from requests<3,>=2->langchain) (2025.1.31)\r\n",
      "Requirement already satisfied: anyio in /opt/miniconda3/lib/python3.12/site-packages (from httpx<1,>=0.23.0->langsmith<0.4,>=0.1.17->langchain) (4.6.2)\r\n",
      "Requirement already satisfied: httpcore==1.* in /opt/miniconda3/lib/python3.12/site-packages (from httpx<1,>=0.23.0->langsmith<0.4,>=0.1.17->langchain) (1.0.2)\r\n",
      "Requirement already satisfied: sniffio in /opt/miniconda3/lib/python3.12/site-packages (from httpx<1,>=0.23.0->langsmith<0.4,>=0.1.17->langchain) (1.3.0)\r\n",
      "Requirement already satisfied: h11<0.15,>=0.13 in /opt/miniconda3/lib/python3.12/site-packages (from httpcore==1.*->httpx<1,>=0.23.0->langsmith<0.4,>=0.1.17->langchain) (0.14.0)\r\n",
      "Requirement already satisfied: jsonpointer>=1.9 in /opt/miniconda3/lib/python3.12/site-packages (from jsonpatch<2.0,>=1.33->langchain-core<1.0.0,>=0.3.41->langchain) (2.1)\r\n"
     ]
    }
   ],
   "source": [
    "!pip install --upgrade langchain -i https: // pypi.org/simple"
   ],
   "metadata": {
    "collapsed": false,
    "ExecuteTime": {
     "end_time": "2025-03-14T09:59:43.217164Z",
     "start_time": "2025-03-14T09:59:41.996552Z"
    }
   }
  },
  {
   "cell_type": "markdown",
   "source": [
    "# PromptTemplate"
   ],
   "metadata": {
    "collapsed": false
   }
  },
  {
   "cell_type": "code",
   "execution_count": 5,
   "outputs": [
    {
     "data": {
      "text/plain": "'你是一个起名大师, 帮我起一个具有法国特色的男孩名字'"
     },
     "execution_count": 5,
     "metadata": {},
     "output_type": "execute_result"
    }
   ],
   "source": [
    "# 字符模板\n",
    "from langchain.prompts import PromptTemplate\n",
    "\n",
    "prompt = PromptTemplate.from_template(\"你是一个起名大师, 帮我起一个具有{county}特色的男孩名字\")\n",
    "prompt.format(county=\"法国\")"
   ],
   "metadata": {
    "collapsed": false,
    "ExecuteTime": {
     "end_time": "2025-03-14T11:04:07.395357Z",
     "start_time": "2025-03-14T11:04:07.383554Z"
    }
   }
  },
  {
   "cell_type": "markdown",
   "source": [
    "# ChatPromptTemplate"
   ],
   "metadata": {
    "collapsed": false
   }
  },
  {
   "cell_type": "code",
   "execution_count": 6,
   "outputs": [
    {
     "data": {
      "text/plain": "[SystemMessage(content='你是一个起名大师。你的名字叫陈大师.', additional_kwargs={}, response_metadata={}),\n HumanMessage(content='你好陈大师，你感觉如何?', additional_kwargs={}, response_metadata={}),\n AIMessage(content='你好!我状态非常好!', additional_kwargs={}, response_metadata={}),\n HumanMessage(content='你叫什么名字呢?', additional_kwargs={}, response_metadata={})]"
     },
     "execution_count": 6,
     "metadata": {},
     "output_type": "execute_result"
    }
   ],
   "source": [
    "# 对话模板具有结构，chatmodels\n",
    "from langchain.prompts import ChatPromptTemplate\n",
    "\n",
    "chat_template = ChatPromptTemplate.from_messages(\n",
    "    [\n",
    "        (\"system\", \"你是一个起名大师。你的名字叫{name}.\"),\n",
    "        (\"human\", \"你好{name}，你感觉如何?\"),\n",
    "        (\"ai\", \"你好!我状态非常好!\"),\n",
    "        (\"human\", \"{user_input}\"),\n",
    "    ]\n",
    ")\n",
    "\n",
    "chat_template.format_messages(name=\"陈大师\", user_input=\"你叫什么名字呢?\")"
   ],
   "metadata": {
    "collapsed": false,
    "ExecuteTime": {
     "end_time": "2025-03-14T11:18:18.550661Z",
     "start_time": "2025-03-14T11:18:18.511824Z"
    }
   }
  },
  {
   "cell_type": "code",
   "execution_count": null,
   "outputs": [],
   "source": [],
   "metadata": {
    "collapsed": false
   }
  }
 ],
 "metadata": {
  "kernelspec": {
   "display_name": "Python 3",
   "language": "python",
   "name": "python3"
  },
  "language_info": {
   "codemirror_mode": {
    "name": "ipython",
    "version": 2
   },
   "file_extension": ".py",
   "mimetype": "text/x-python",
   "name": "python",
   "nbconvert_exporter": "python",
   "pygments_lexer": "ipython2",
   "version": "2.7.6"
  }
 },
 "nbformat": 4,
 "nbformat_minor": 0
}
